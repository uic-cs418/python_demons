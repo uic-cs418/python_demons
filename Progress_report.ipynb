{
 "cells": [
  {
   "cell_type": "markdown",
   "metadata": {},
   "source": [
    "# Python Demons Project Report\n",
    "### Introduction\n",
    "We have studied various datasets for Chicago Transit Authority (CTA). We analyzed different types of Datasets - CTA Bus Ridership Daily, CTA Bus Ridership Monthly, CTA Train Ridership Daily, CTA Train Ridership Monthly and CTA Overall Ridership Annually.\n",
    "\n",
    "Our goal is to find and predict the traffic change in the chicago. We will predict the traffic based on Area of Chicago (which areas will be getting more traffic and which one will get less over the years); Route (Which routes are getting more popular) and in general prediction of Traffic in CTA transport.\n",
    "\n",
    "Our predictions will help the CTA manage it's transportation and allot finance accordingly. These predictions will also help in better preparedness in events like Covid-19 or Polar Vertex. "
   ]
  },
  {
   "cell_type": "markdown",
   "metadata": {},
   "source": [
    "### Changes in Scope\n",
    "Intially we planned to classify the smaller neighbourhood areas of chicago into more active than current/equally active/less active than current. But as the routes operate in large range of areas, predicting the classification of smaller areas is not feasible. However, we are still able to accurately predict the correct Classfication of coarsily grained data and large areas. "
   ]
  },
  {
   "cell_type": "markdown",
   "metadata": {},
   "source": [
    "### Data Cleaning\n",
    "We cleaned the data intially but the major cleaning happened on-the-go as we tried to scramble the data for exploratory analysis. We used following cleaning techniques on every dataset - \n",
    "\n",
    "#### 1 Bus - Monthly (Vipul)\n",
    "\n",
    "1) Seperated Year and Month from Date and added columns for them\n",
    "\n",
    "2) Dropped all the NaN values and All the double value\n",
    "\n",
    "3) Converted String into Int in some cases of MonthTotal Column\n",
    "\n",
    "4) Adjust all the values for the leap year (normalized for an extra day)\n",
    "\n",
    "5) Dropped special routes which did not operate every month of all the years (for Some part of the exploration)\n",
    "\n",
    "6) Dropped after merging Unnecessary Columns like 'Avg_Weekday' & 'Avg_Holiday'\n",
    "\n",
    "7) Stablished the monthly data by subtracting with previous month in order to perform Supervised Machine Learning Training\n",
    "\n",
    "8) Seperated columns with multiple entries (in Route column)\n",
    "\n",
    "#### 2 Bus & Train - Annual (Faeze)\n",
    "\n",
    "1) Adjust all the values for the leap year (normalized for an extra day)\n",
    "\n",
    "2) Dropped all the NaN values and All the double value\n",
    "\n",
    "3) Converted value of Bus and Train Ridership into percentage share of total\n"
   ]
  },
  {
   "cell_type": "markdown",
   "metadata": {},
   "source": [
    "### Exploratory Data Analysis\n",
    "\n",
    "#### CTA Bus\n",
    "We found that over the years this bus routes changed Drastically (Increase or Decrease in Traffic - \n",
    "['169', '1', '51', '2', '108', '171', '11', '28', '120', '100'] \n",
    "\n",
    "Heavy Snowing or Sudden Tempreature Drop Result in a significant drop (5-7%) as usual like during Polar Vertex of 2019\n",
    "\n",
    "Increased Downtown Routes in 2007 actually led to a huge gain in ridership.\n",
    "\n",
    "Service Cuts of less popular routes in South region in 2009 led a significant drop in overall ridership due to misinformation among residents and exploration of other options\n",
    "\n",
    "Since Uber started operations in 2012 and introduction of cheaper options like Uber X and Uber Share, the ridership continue to decline steadily ever since.\n",
    "\n",
    "Heavy road construction in Downtown was also the reason of high decrease in 2016 in ridership.\n",
    "\n",
    "The share of total transportaion for Bus is decreasing while that of Train is increasing, both approaching equal percentages."
   ]
  },
  {
   "cell_type": "markdown",
   "metadata": {},
   "source": [
    "#### Intresting Hypothesis\n",
    "In many of the CTA annual reports, it is stated that the ridership declined at some points due to decrease in GAS prices. We tested the correlation between the GAS price and total ridership. It turned out to be a mere 0.095. Hence it can be easily concluded that they are not correlated. The graph accurately depicts the same."
   ]
  },
  {
   "cell_type": "markdown",
   "metadata": {},
   "source": [
    "### Machine Learning Analysis\n",
    "\n",
    "#### 1. Predicting the total ridership of the BUS in coming months\n",
    "We used Supervised Machine Learning to predict the ridership over the years using Long Short-term Memory (LSTM).\n",
    "We used 18 layers of LAG and 100 Epoche to find the prediction for the Ridership of Bus. Our Test Accuracy is 85.6% which is underfitting and we are trying to improve it to maximum possible. The baseline accuracy (using mean) turned out to be a mere 23% accurate."
   ]
  },
  {
   "cell_type": "markdown",
   "metadata": {},
   "source": [
    "### Reflections\n",
    "1) The hardest part we encountered so far is predicting the values of ridership as they are influenced by several factors which can't be always included due to their short-term life.\n",
    "\n",
    "2) Our intial insights are - There is a steady decline due to Cab Hailing services like Uber and Lyft and growing network of services like Metra and Pace. Also, trains are comparitively getting more popular due to their strong downtown network.\n",
    "\n",
    "3) Concrete Results - We have successfully identified the features for prediction of ridership. We have also successfully identified the causes of sudden change in ridership.\n",
    "\n",
    "4) Going Forward - The biggest Challange is to predict the neighbourhood which will gain/loose the traffic as it will require merging of KML data\n",
    "\n",
    "5) We think we are on track with our project. We just need to strengthen our regression algorithm using Neural Networks and find a good way to divide the datasets in terms of area\n",
    "\n",
    "6) Given our current insights, it is definetly worth proceding with the Project. We hope to gain meaning predictions to help CTA plan effectivly."
   ]
  },
  {
   "cell_type": "markdown",
   "metadata": {},
   "source": [
    "### Next Step\n",
    "In coming months we will preict the ridership divided by routes and areas of operation. We will evalute our performance based on the unseen data of 2020 that CTA publish every month. It will also be interesting to know and predict the effect of Covid-19 lockdown on the Ridership."
   ]
  },
  {
   "cell_type": "code",
   "execution_count": null,
   "metadata": {},
   "outputs": [],
   "source": []
  }
 ],
 "metadata": {
  "kernelspec": {
   "display_name": "Python 3",
   "language": "python",
   "name": "python3"
  },
  "language_info": {
   "codemirror_mode": {
    "name": "ipython",
    "version": 3
   },
   "file_extension": ".py",
   "mimetype": "text/x-python",
   "name": "python",
   "nbconvert_exporter": "python",
   "pygments_lexer": "ipython3",
   "version": "3.7.4"
  }
 },
 "nbformat": 4,
 "nbformat_minor": 2
}
