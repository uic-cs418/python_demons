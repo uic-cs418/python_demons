{
 "cells": [
  {
   "cell_type": "code",
   "execution_count": 32,
   "metadata": {},
   "outputs": [],
   "source": [
    "import pandas as pd"
   ]
  },
  {
   "cell_type": "code",
   "execution_count": 33,
   "metadata": {},
   "outputs": [],
   "source": [
    "# Importing dataset\n",
    "folder_location = 'data'\n",
    "trains = pd.read_csv(open(folder_location + '\\CTA_-_Ridership_-__L__Station_Entries_-_Monthly_Day-Type_Averages___Totals.csv'))"
   ]
  },
  {
   "cell_type": "code",
   "execution_count": 34,
   "metadata": {},
   "outputs": [
    {
     "data": {
      "text/plain": [
       "(32473, 7)"
      ]
     },
     "execution_count": 34,
     "metadata": {},
     "output_type": "execute_result"
    }
   ],
   "source": [
    "trains.shape"
   ]
  },
  {
   "cell_type": "code",
   "execution_count": 35,
   "metadata": {},
   "outputs": [
    {
     "data": {
      "text/plain": [
       "Index(['station_id', 'stationame', 'month_beginning', 'avg_weekday_rides',\n",
       "       'avg_saturday_rides', 'avg_sunday-holiday_rides', 'monthtotal'],\n",
       "      dtype='object')"
      ]
     },
     "execution_count": 35,
     "metadata": {},
     "output_type": "execute_result"
    }
   ],
   "source": [
    "trains.columns"
   ]
  },
  {
   "cell_type": "code",
   "execution_count": 36,
   "metadata": {},
   "outputs": [
    {
     "name": "stdout",
     "output_type": "stream",
     "text": [
      "Unique Station ID: 147\n"
     ]
    }
   ],
   "source": [
    "print('Unique Station ID: ' + str(len(trains['station_id'].unique())))"
   ]
  },
  {
   "cell_type": "code",
   "execution_count": 37,
   "metadata": {},
   "outputs": [],
   "source": [
    "trains = trains.drop(labels=['stationame', 'avg_weekday_rides', 'avg_saturday_rides', 'avg_sunday-holiday_rides'], axis=1)"
   ]
  },
  {
   "cell_type": "code",
   "execution_count": 38,
   "metadata": {},
   "outputs": [],
   "source": [
    "# month = []\n",
    "year = []\n",
    "for index, row in trains.iterrows():\n",
    "  # month.append(row['month_beginning'][:2])\n",
    "  year.append(row['month_beginning'][6:])\n",
    "\n",
    "# trains['month'] = month\n",
    "trains['year'] = year"
   ]
  },
  {
   "cell_type": "code",
   "execution_count": 39,
   "metadata": {},
   "outputs": [],
   "source": [
    "# trains = trains.drop(labels=['month_beginning', 'month'], axis=1)\n",
    "trains = trains.drop(labels=['month_beginning'], axis=1)"
   ]
  },
  {
   "cell_type": "code",
   "execution_count": 40,
   "metadata": {},
   "outputs": [],
   "source": [
    "df = trains.groupby(['station_id', 'year']).mean().reset_index()\n",
    "df.columns = ['station_id', 'year', 'avg_ridership']\n",
    "df.avg_ridership = df.avg_ridership.round()"
   ]
  },
  {
   "cell_type": "code",
   "execution_count": 41,
   "metadata": {},
   "outputs": [
    {
     "data": {
      "text/html": [
       "<div>\n",
       "<style scoped>\n",
       "    .dataframe tbody tr th:only-of-type {\n",
       "        vertical-align: middle;\n",
       "    }\n",
       "\n",
       "    .dataframe tbody tr th {\n",
       "        vertical-align: top;\n",
       "    }\n",
       "\n",
       "    .dataframe thead th {\n",
       "        text-align: right;\n",
       "    }\n",
       "</style>\n",
       "<table border=\"1\" class=\"dataframe\">\n",
       "  <thead>\n",
       "    <tr style=\"text-align: right;\">\n",
       "      <th></th>\n",
       "      <th>station_id</th>\n",
       "      <th>year</th>\n",
       "      <th>avg_ridership</th>\n",
       "    </tr>\n",
       "  </thead>\n",
       "  <tbody>\n",
       "    <tr>\n",
       "      <th>0</th>\n",
       "      <td>40010</td>\n",
       "      <td>2001</td>\n",
       "      <td>38855.0</td>\n",
       "    </tr>\n",
       "    <tr>\n",
       "      <th>1</th>\n",
       "      <td>40010</td>\n",
       "      <td>2002</td>\n",
       "      <td>40928.0</td>\n",
       "    </tr>\n",
       "    <tr>\n",
       "      <th>2</th>\n",
       "      <td>40010</td>\n",
       "      <td>2003</td>\n",
       "      <td>41670.0</td>\n",
       "    </tr>\n",
       "    <tr>\n",
       "      <th>3</th>\n",
       "      <td>40010</td>\n",
       "      <td>2004</td>\n",
       "      <td>40385.0</td>\n",
       "    </tr>\n",
       "    <tr>\n",
       "      <th>4</th>\n",
       "      <td>40010</td>\n",
       "      <td>2005</td>\n",
       "      <td>40838.0</td>\n",
       "    </tr>\n",
       "    <tr>\n",
       "      <th>...</th>\n",
       "      <td>...</td>\n",
       "      <td>...</td>\n",
       "      <td>...</td>\n",
       "    </tr>\n",
       "    <tr>\n",
       "      <th>2707</th>\n",
       "      <td>41690</td>\n",
       "      <td>2018</td>\n",
       "      <td>45288.0</td>\n",
       "    </tr>\n",
       "    <tr>\n",
       "      <th>2708</th>\n",
       "      <td>41690</td>\n",
       "      <td>2019</td>\n",
       "      <td>47060.0</td>\n",
       "    </tr>\n",
       "    <tr>\n",
       "      <th>2709</th>\n",
       "      <td>41700</td>\n",
       "      <td>2017</td>\n",
       "      <td>203398.0</td>\n",
       "    </tr>\n",
       "    <tr>\n",
       "      <th>2710</th>\n",
       "      <td>41700</td>\n",
       "      <td>2018</td>\n",
       "      <td>264907.0</td>\n",
       "    </tr>\n",
       "    <tr>\n",
       "      <th>2711</th>\n",
       "      <td>41700</td>\n",
       "      <td>2019</td>\n",
       "      <td>260506.0</td>\n",
       "    </tr>\n",
       "  </tbody>\n",
       "</table>\n",
       "<p>2712 rows × 3 columns</p>\n",
       "</div>"
      ],
      "text/plain": [
       "      station_id  year  avg_ridership\n",
       "0          40010  2001        38855.0\n",
       "1          40010  2002        40928.0\n",
       "2          40010  2003        41670.0\n",
       "3          40010  2004        40385.0\n",
       "4          40010  2005        40838.0\n",
       "...          ...   ...            ...\n",
       "2707       41690  2018        45288.0\n",
       "2708       41690  2019        47060.0\n",
       "2709       41700  2017       203398.0\n",
       "2710       41700  2018       264907.0\n",
       "2711       41700  2019       260506.0\n",
       "\n",
       "[2712 rows x 3 columns]"
      ]
     },
     "execution_count": 41,
     "metadata": {},
     "output_type": "execute_result"
    }
   ],
   "source": [
    "df"
   ]
  },
  {
   "cell_type": "code",
   "execution_count": 42,
   "metadata": {},
   "outputs": [],
   "source": [
    "df.to_csv(r'data\\trains_dataset.csv')"
   ]
  },
  {
   "cell_type": "code",
   "execution_count": null,
   "metadata": {},
   "outputs": [],
   "source": []
  }
 ],
 "metadata": {
  "kernelspec": {
   "display_name": "Python 3",
   "language": "python",
   "name": "python3"
  },
  "language_info": {
   "codemirror_mode": {
    "name": "ipython",
    "version": 3
   },
   "file_extension": ".py",
   "mimetype": "text/x-python",
   "name": "python",
   "nbconvert_exporter": "python",
   "pygments_lexer": "ipython3",
   "version": "3.7.4"
  }
 },
 "nbformat": 4,
 "nbformat_minor": 2
}
