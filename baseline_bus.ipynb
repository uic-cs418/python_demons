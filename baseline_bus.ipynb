{
 "cells": [
  {
   "cell_type": "code",
   "execution_count": 73,
   "metadata": {},
   "outputs": [
    {
     "data": {
      "text/plain": [
       "63.08178909572603"
      ]
     },
     "execution_count": 73,
     "metadata": {},
     "output_type": "execute_result"
    }
   ],
   "source": [
    "def baseline():\n",
    "    import bus_clean_vis as bcv\n",
    "    import pandas as pd\n",
    "    import numpy as np\n",
    "    import matplotlib.pyplot as plt\n",
    "    monthly = pd.read_csv(\"Bus_monthly(weekday,weekend,total).csv\")\n",
    "    monthly = bcv.clean(monthly)\n",
    "    route_group = monthly.groupby(['route'],as_index=False).count()\n",
    "    # For All the routes which ran all the months of 19 years\n",
    "    route_group = route_group.loc[route_group.routename == 228]\n",
    "        # List of All such groups\n",
    "    route_groups = route_group['route'].tolist()\n",
    "        # DF with only such routes\n",
    "    monthly = monthly.loc[monthly['route'].isin(route_groups)]\n",
    "    train = monthly.loc[monthly.year <= 2018]\n",
    "    test = monthly.loc[monthly.year == 2019]\n",
    "    test = test.sort_values(by=['route'])\n",
    "    mean = train.groupby(['route','month'],as_index = False).mean()\n",
    "    prediction = mean.MonthTotal.astype(int)\n",
    "    prediction = prediction.tolist()\n",
    "    real = test.MonthTotal.tolist()\n",
    "    avg_accuracy = 0\n",
    "    for i in range(0,len(real)):\n",
    "        accuracy = ((abs(real[i]- prediction[i]))/real[i])*100\n",
    "        accuracy = 100 - accuracy\n",
    "        avg_accuracy = ((avg_accuracy*i) + accuracy)/(i+1)\n",
    "    return avg_accuracy\n",
    "baseline()"
   ]
  },
  {
   "cell_type": "code",
   "execution_count": null,
   "metadata": {},
   "outputs": [],
   "source": []
  }
 ],
 "metadata": {
  "kernelspec": {
   "display_name": "Python 3",
   "language": "python",
   "name": "python3"
  },
  "language_info": {
   "codemirror_mode": {
    "name": "ipython",
    "version": 3
   },
   "file_extension": ".py",
   "mimetype": "text/x-python",
   "name": "python",
   "nbconvert_exporter": "python",
   "pygments_lexer": "ipython3",
   "version": "3.7.4"
  }
 },
 "nbformat": 4,
 "nbformat_minor": 2
}
