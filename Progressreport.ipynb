{
 "cells": [
  {
   "cell_type": "markdown",
   "metadata": {},
   "source": [
    "# Python Demons Project Progress Report\n",
    "### Introduction\n",
    "In this project, we have studied various datasets for Chicago Transit Authority (CTA) transportation. We analyzed different Datasets covering - CTA Daily Bus Ridership, CTA Monthly Bus Ridership, CTA Daily Train Ridership, CTA Monthly Train Ridership Monthly and CTA Overall Ridership Annually from the years 2001-2019 for all bus and train lines in Chicago.\n",
    "\n",
    "Our goal is to analyze and predict the patterns and trends in the ridership in the city of Chicago. We will predict the ridership based on the area (which areas experience a rise in the ridership and which ones will experience a drop), Route popularity and general analysis of the CTA transport ridership\n",
    "\n",
    "Our predictions could help the CTA manage it's transportation and allot finance accordingly. These predictions could also help in better preparedness in events like Covid-19 or Polar Vertex."
   ]
  },
  {
   "cell_type": "markdown",
   "metadata": {},
   "source": [
    "### Changes in Scope\n",
    "Intially we planned to classify the smaller neighbourhood areas of chicago into more active than current/equally active/less active than current. But as the routes operate in large range of areas, predicting the classification of smaller areas is not feasible. However, we are still able to accurately predict the ridership of coarsily grained data and large areas. "
   ]
  },
  {
   "cell_type": "code",
   "execution_count": 1,
   "metadata": {},
   "outputs": [],
   "source": [
    "import Kasturi\n",
    "import pandas as pd\n",
    "import os\n",
    "import matplotlib.pyplot as plt"
   ]
  },
  {
   "cell_type": "markdown",
   "metadata": {},
   "source": [
    "### Data Cleaning\n",
    "We cleaned the data intially but the major cleaning happened on-the-go as we tried to scramble the data for exploratory analysis. We used following cleaning techniques on every dataset - "
   ]
  },
  {
   "cell_type": "markdown",
   "metadata": {},
   "source": [
    "Data cleaning was performed intially, but we performed most of it while analyzing the data and scrambling it for exploratory analysis. We used following cleaning techniques on all the datasets - \n",
    "\n",
    "- Removed NaN and double values\n",
    "- Added day column to anayze daywise trends in the bus and train data over weekdays and weekends and each day\n",
    "- Added year column and seperated it from the month column\n",
    "- Adjust all the values for the leap year (normalized for an extra day)\n",
    "- Converted String into Int in some cases of MonthTotal Column\n",
    "- Dropped special routes which did not operate every month of all the years and routes which did not operate on weekdays\n",
    "- Aggregated over days of the week to observe trends for each day\n",
    "- Aggregated over year to find the trends and popularity of bus and train lines\n",
    "- Dropped after merging Unnecessary Columns\n",
    "- Extracted necessary features for ML\n",
    "- Seperated columns with multiple entries (in Route column)"
   ]
  },
  {
   "cell_type": "code",
   "execution_count": 2,
   "metadata": {},
   "outputs": [],
   "source": [
    "#Reading the file for daily ridership of the L \n",
    "py_data=pd.read_csv(\"./data/CTA_-_Ridership_-__L__Station_Entries_-_Daily_Totals.csv\")"
   ]
  },
  {
   "cell_type": "code",
   "execution_count": 3,
   "metadata": {},
   "outputs": [],
   "source": [
    "py_data = Kasturi.data_cleaning(py_data)"
   ]
  },
  {
   "cell_type": "markdown",
   "metadata": {},
   "source": [
    "### Exploratory Data Analysis\n",
    "\n",
    "####  Bus ridership\n",
    "We found that over the years this bus routes changed Drastically (Increase or Decrease in ridership - \n",
    "['169', '1', '51', '2', '108', '171', '11', '28', '120', '100'] \n",
    "Heavy Snowing or Sudden Tempreature Drop Result in a significant drop (5-7%) as usual like during Polar Vertex of 2019.\n",
    "Increased Downtown Routes in 2007 actually led to a huge gain in ridership."
   ]
  },
  {
   "cell_type": "markdown",
   "metadata": {},
   "source": [
    "Service Cuts of less popular routes in South region in 2009 led a significant drop in overall ridership due to misinformation among residents and exploration of other options.\n",
    "Since Uber started operations in 2012 and introduction of cheaper options like Uber X and Uber Share, the ridership continue to decline steadily ever since.\n",
    "Heavy road construction in Downtown was also the reason of high decrease in 2016 in ridership.\n",
    "The share of total transportaion for Bus is decreasing while that of Train is increasing, both approaching equal percentages."
   ]
  },
  {
   "cell_type": "markdown",
   "metadata": {},
   "source": [
    "### CTA Train ridership\n",
    "The train ridership has grown as compared to the bus ridership. The ridership has shifted from South Chicago to downtown due to the boom in the business and the high saturation of train lines in the loop area. However, there is a decline in the rail riders since the past 4 years due to the increase in price of the CTA pass and the increase in popularity of competitve train lines such as the Metra.  Also, the growing popularity of Uber and lyft have led to a decline in the passengers preferring to travel by CTA trains."
   ]
  },
  {
   "cell_type": "code",
   "execution_count": 4,
   "metadata": {},
   "outputs": [],
   "source": [
    "py_data_pivot = Kasturi.perform_eda(py_data)"
   ]
  },
  {
   "cell_type": "markdown",
   "metadata": {},
   "source": [
    "##### The CTA train ridership has plummeted over the past 4 years due to the commuter movement to other competetive trains like metra"
   ]
  },
  {
   "cell_type": "code",
   "execution_count": 5,
   "metadata": {},
   "outputs": [
    {
     "data": {
      "image/png": "[encoded data removed]",
      "text/plain": [
       "<Figure size 432x288 with 1 Axes>"
      ]
     },
     "metadata": {
      "needs_background": "light"
     },
     "output_type": "display_data"
    }
   ],
   "source": [
    "Kasturi.day_of_week(py_data_pivot)"
   ]
  },
  {
   "cell_type": "markdown",
   "metadata": {},
   "source": [
    "The reason behind the declinein ridership could be due to the increase in popularity of Metra since 2017, especially in the southern parts of Chicago. Another possible reason could be that CTA increased the price of passes without increasing the price of a single ride in 2014. Also, in 2015, the introduction of permanent Ventra card system replaced the disposable passes, confusing for the general public.Another important factor is that the ridership has reduced due to the growth in Uber and Lyft"
   ]
  },
  {
   "cell_type": "markdown",
   "metadata": {},
   "source": [
    "10 Most popular train station race from 2001 to 2020 using animated bar plot.\n",
    "- Link:"
   ]
  },
  {
   "cell_type": "markdown",
   "metadata": {},
   "source": [
    "#### Intresting Hypothesis\n",
    "In many of the CTA annual reports, it is stated that the ridership declined at some points due to decrease in GAS prices. We tested the correlation between the GAS price and total ridership. It turned out to be a mere 0.095. Hence it can be easily concluded that they are not correlated. The graph accurately depicts the same."
   ]
  },
  {
   "cell_type": "markdown",
   "metadata": {},
   "source": [
    "### Machine Learning Analysis\n",
    "\n",
    "#### 1. Predicting the total ridership of the BUS in coming months\n",
    "We used Supervised Machine Learning to predict the ridership over the years using Long Short-term Memory (LSTM).\n",
    "We used 18 layers of LAG and 100 Epoche to find the prediction for the Ridership of Bus. Our Test Accuracy is 85.6% which is underfitting and we are trying to improve it to maximum possible. The baseline accuracy (using mean) turned out to be a mere 23% accurate."
   ]
  },
  {
   "cell_type": "markdown",
   "metadata": {},
   "source": [
    "### Reflections\n",
    "1) The hardest part we encountered so far is predicting the values of ridership as they are influenced by several factors which can't be always included due to their short-term life.\n",
    "2) Our intial insights are - There is a steady decline due to Cab Hailing services like Uber and Lyft and growing network of services like Metra and Pace. Also, trains are comparitively getting more popular due to their strong downtown network.\n",
    "3) Concrete Results - We have successfully identified the features for prediction of ridership. We have also successfully identified the causes of sudden change in ridership."
   ]
  },
  {
   "cell_type": "markdown",
   "metadata": {},
   "source": [
    "4) Going Forward - The biggest Challange is to predict the neighbourhood which will gain/loose the traffic as it will require merging of KML data\n",
    "5) We think we are on track with our project. We just need to strengthen our regression algorithm using Neural Networks and find a good way to divide the datasets in terms of area\n",
    "6) Given our current insights, it is definetly worth proceding with the Project. We hope to gain meaning predictions to help CTA plan effectivly."
   ]
  },
  {
   "cell_type": "markdown",
   "metadata": {},
   "source": [
    "### Next Step\n",
    "In coming months we will preict the ridership divided by routes and areas of operation. We will evalute our performance based on the unseen data of 2020 that CTA publish every month. It will also be interesting to know and predict the effect of Covid-19 lockdown on the Ridership."
   ]
  }
 ],
 "metadata": {
  "kernelspec": {
   "display_name": "Python 3",
   "language": "python",
   "name": "python3"
  },
  "language_info": {
   "codemirror_mode": {
    "name": "ipython",
    "version": 3
   },
   "file_extension": ".py",
   "mimetype": "text/x-python",
   "name": "python",
   "nbconvert_exporter": "python",
   "pygments_lexer": "ipython3",
   "version": "3.7.4"
  }
 },
 "nbformat": 4,
 "nbformat_minor": 2
}
